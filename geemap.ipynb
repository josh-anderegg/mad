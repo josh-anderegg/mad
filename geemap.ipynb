{
 "cells": [
  {
   "cell_type": "code",
   "execution_count": 1,
   "id": "947f38d2",
   "metadata": {},
   "outputs": [
    {
     "name": "stderr",
     "output_type": "stream",
     "text": [
      "/home/cynik/Documents/mad/.venv/lib64/python3.13/site-packages/geemap/conversion.py:23: UserWarning: pkg_resources is deprecated as an API. See https://setuptools.pypa.io/en/latest/pkg_resources.html. The pkg_resources package is slated for removal as early as 2025-11-30. Refrain from using this package or pin to Setuptools<81.\n",
      "  import pkg_resources\n"
     ]
    }
   ],
   "source": [
    "import geemap\n",
    "import ee\n",
    "import pandas as pd\n",
    "ee.Authenticate()\n",
    "ee.Initialize(project='siam-josh')  \n",
    "\n",
    "Map = geemap.Map()\n",
    "\n"
   ]
  },
  {
   "cell_type": "code",
   "execution_count": 3,
   "id": "fb86b899",
   "metadata": {},
   "outputs": [
    {
     "data": {
      "text/html": [
       "\n",
       "            <style>\n",
       "                .geemap-dark {\n",
       "                    --jp-widgets-color: white;\n",
       "                    --jp-widgets-label-color: white;\n",
       "                    --jp-ui-font-color1: white;\n",
       "                    --jp-layout-color2: #454545;\n",
       "                    background-color: #383838;\n",
       "                }\n",
       "\n",
       "                .geemap-dark .jupyter-button {\n",
       "                    --jp-layout-color3: #383838;\n",
       "                }\n",
       "\n",
       "                .geemap-colab {\n",
       "                    background-color: var(--colab-primary-surface-color, white);\n",
       "                }\n",
       "\n",
       "                .geemap-colab .jupyter-button {\n",
       "                    --jp-layout-color3: var(--colab-primary-surface-color, white);\n",
       "                }\n",
       "            </style>\n",
       "            "
      ],
      "text/plain": [
       "<IPython.core.display.HTML object>"
      ]
     },
     "metadata": {},
     "output_type": "display_data"
    },
    {
     "data": {
      "application/vnd.jupyter.widget-view+json": {
       "model_id": "42fa0c5bbee54329ac82cf015b23e153",
       "version_major": 2,
       "version_minor": 0
      },
      "text/plain": [
       "Map(center=[0, 0], controls=(WidgetControl(options=['position', 'transparent_bg'], widget=SearchDataGUI(childr…"
      ]
     },
     "execution_count": 3,
     "metadata": {},
     "output_type": "execute_result"
    }
   ],
   "source": [
    "boxes = pd.read_csv('grid_boxes.csv')\n",
    "\n",
    "bboxes = [ee.geometry.Geometry.BBox(row['min_lon'], row['min_lat'], row['max_lon'], row['max_lat']) for _, row in boxes.iterrows()][:100]\n",
    "box_fc = ee.featurecollection.FeatureCollection(bboxes)\n",
    "# for _, row in boxes.iterrows():\n",
    "    # bbox = ee.geometry.Geometry.BBox(row['min_lon'], row['min_lat'], row['max_lon'], row['max_lat'])\n",
    "# bbox = ee.Geometry.BBox(8.9, 47.9, 9, 48) # type: ignore\n",
    "\n",
    "# image = ee.imagecollection.ImageCollection(\"COPERNICUS/S2_SR_HARMONIZED\")\\\n",
    "#     .filterDate('2019-01-01', '2020-01-01')\\\n",
    "#     .filterBounds(bbox)\\\n",
    "#     .filter(ee.Filter.lt('CLOUDY_PIXEL_PERCENTAGE', 50)).median() # type: ignore\n",
    "\n",
    "\n",
    "# landsat_vis = {\"bands\": [\"B4\", \"B3\", \"B2\"], \"min\": 0, \"max\": 10000, \"gamma\": 2}\n",
    "# Map.centerObject(bbox, 9);\n",
    "# Map.addLayer(image, landsat_vis, \"Sentinel\", True, 1)\n",
    "Map.addLayer(box_fc, {'color': 'blue'}, 'Boxes')\n",
    "Map"
   ]
  },
  {
   "cell_type": "code",
   "execution_count": 25,
   "id": "51076398",
   "metadata": {},
   "outputs": [
    {
     "data": {
      "text/html": [
       "\n",
       "            <style>\n",
       "                .geemap-dark {\n",
       "                    --jp-widgets-color: white;\n",
       "                    --jp-widgets-label-color: white;\n",
       "                    --jp-ui-font-color1: white;\n",
       "                    --jp-layout-color2: #454545;\n",
       "                    background-color: #383838;\n",
       "                }\n",
       "\n",
       "                .geemap-dark .jupyter-button {\n",
       "                    --jp-layout-color3: #383838;\n",
       "                }\n",
       "\n",
       "                .geemap-colab {\n",
       "                    background-color: var(--colab-primary-surface-color, white);\n",
       "                }\n",
       "\n",
       "                .geemap-colab .jupyter-button {\n",
       "                    --jp-layout-color3: var(--colab-primary-surface-color, white);\n",
       "                }\n",
       "            </style>\n",
       "            "
      ],
      "text/plain": [
       "<IPython.core.display.HTML object>"
      ]
     },
     "metadata": {},
     "output_type": "display_data"
    },
    {
     "name": "stdout",
     "output_type": "stream",
     "text": [
      "Generating URL ...\n",
      "Downloading data from https://earthengine.googleapis.com/v1/projects/siam-josh/thumbnails/2745b71f6500b903cb7018503e1ceb36-1550be1501fd974a6bf48b3c61150ff2:getPixels\n",
      "Please wait ...\n",
      "Data downloaded to /home/cynik/Documents/mad/sentinel2_rgb_2019.tif\n"
     ]
    }
   ],
   "source": [
    "rgb = image.select(['B4', 'B3', 'B2'])\n",
    "\n",
    "geemap.ee_export_image(\n",
    "    rgb,\n",
    "    filename='sentinel2_rgb_2019.tif',\n",
    "    scale=10,\n",
    "    region=bbox,\n",
    "    file_per_band=False\n",
    ")"
   ]
  }
 ],
 "metadata": {
  "kernelspec": {
   "display_name": ".venv",
   "language": "python",
   "name": "python3"
  },
  "language_info": {
   "codemirror_mode": {
    "name": "ipython",
    "version": 3
   },
   "file_extension": ".py",
   "mimetype": "text/x-python",
   "name": "python",
   "nbconvert_exporter": "python",
   "pygments_lexer": "ipython3",
   "version": "3.13.3"
  }
 },
 "nbformat": 4,
 "nbformat_minor": 5
}
